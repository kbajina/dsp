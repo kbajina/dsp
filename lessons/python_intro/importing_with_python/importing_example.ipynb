{
 "cells": [
  {
   "cell_type": "markdown",
   "metadata": {},
   "source": [
    "# Let's learn a bit more about importing"
   ]
  },
  {
   "cell_type": "markdown",
   "metadata": {},
   "source": [
    "One of the key ways you can immediately make your code more professional looking is by using modules to import the functions and classes you'll need. As an example, let's imagine we wanted to import a module we wrote that measures metrics about linear regression. The file is called `regression_metrics.py`. Note that the `*.py` style naming is not optional unless you want to get way more complicated. For now, just know that if you're writing a module for Python, you want to call it `*something*.py`."
   ]
  },
  {
   "cell_type": "markdown",
   "metadata": {},
   "source": [
    "To get started, let's tell matplotlib to use the notebook as output. Notice that we're not importing matplotlib here! We're going to let it be imported in the module where the plotting code is. That has some complications which we'll explore in a bit. "
   ]
  },
  {
   "cell_type": "code",
   "execution_count": 5,
   "metadata": {
    "ExecuteTime": {
     "end_time": "2018-09-11T19:47:07.473790Z",
     "start_time": "2018-09-11T19:47:06.107464Z"
    }
   },
   "outputs": [],
   "source": [
    "%matplotlib inline"
   ]
  },
  {
   "cell_type": "markdown",
   "metadata": {},
   "source": [
    "Okay, we're ready to bring in our module. To do so, we can just ask python to import the file (by name, minus the .py). This is going to make all the stuff in that file available to us, but it will belong to that import name. Let's see what I mean."
   ]
  },
  {
   "cell_type": "code",
   "execution_count": 6,
   "metadata": {
    "ExecuteTime": {
     "end_time": "2018-09-11T19:47:10.379267Z",
     "start_time": "2018-09-11T19:47:09.202888Z"
    }
   },
   "outputs": [],
   "source": [
    "import regression_metrics as met"
   ]
  },
  {
   "cell_type": "code",
   "execution_count": 7,
   "metadata": {
    "ExecuteTime": {
     "end_time": "2018-09-11T19:47:10.432491Z",
     "start_time": "2018-09-11T19:47:10.414429Z"
    }
   },
   "outputs": [
    {
     "data": {
      "text/plain": [
       "['__name__',\n",
       " '__doc__',\n",
       " '__package__',\n",
       " '__loader__',\n",
       " '__spec__',\n",
       " '__file__',\n",
       " '__cached__',\n",
       " '__builtins__',\n",
       " 'stats',\n",
       " 'np',\n",
       " 'plt',\n",
       " 'mean_squared_error',\n",
       " 'root_mean_square_error',\n",
       " 'mean_absolute_error',\n",
       " 'sum_squared_error',\n",
       " 'r2_score',\n",
       " 'adj_r2',\n",
       " 'standard_error_estimate',\n",
       " 'plot_model_results',\n",
       " 'p_vals_per_coef',\n",
       " 'model_score']"
      ]
     },
     "execution_count": 7,
     "metadata": {},
     "output_type": "execute_result"
    }
   ],
   "source": [
    "met.__dir__()"
   ]
  },
  {
   "cell_type": "markdown",
   "metadata": {},
   "source": [
    "So all of the functions I wrote, like `model_score`, are now hanging out under the name of `met`. So if I wanted to call model score, I'd need to say `met.model_score(...)`. Also notice that we've got numpy in there as np. So let's try to run some code. "
   ]
  },
  {
   "cell_type": "code",
   "execution_count": 8,
   "metadata": {
    "ExecuteTime": {
     "end_time": "2018-09-11T19:47:13.294092Z",
     "start_time": "2018-09-11T19:47:12.263936Z"
    }
   },
   "outputs": [
    {
     "ename": "NameError",
     "evalue": "name 'np' is not defined",
     "output_type": "error",
     "traceback": [
      "\u001b[0;31m---------------------------------------------------------------------------\u001b[0m",
      "\u001b[0;31mNameError\u001b[0m                                 Traceback (most recent call last)",
      "\u001b[0;32m<ipython-input-8-1f5063bbe8a7>\u001b[0m in \u001b[0;36m<module>\u001b[0;34m\u001b[0m\n\u001b[1;32m      1\u001b[0m \u001b[0;32mfrom\u001b[0m \u001b[0msklearn\u001b[0m\u001b[0;34m.\u001b[0m\u001b[0mlinear_model\u001b[0m \u001b[0;32mimport\u001b[0m \u001b[0mLinearRegression\u001b[0m\u001b[0;34m\u001b[0m\u001b[0;34m\u001b[0m\u001b[0m\n\u001b[1;32m      2\u001b[0m \u001b[0;34m\u001b[0m\u001b[0m\n\u001b[0;32m----> 3\u001b[0;31m \u001b[0mX\u001b[0m \u001b[0;34m=\u001b[0m \u001b[0mnp\u001b[0m\u001b[0;34m.\u001b[0m\u001b[0mrandom\u001b[0m\u001b[0;34m.\u001b[0m\u001b[0muniform\u001b[0m\u001b[0;34m(\u001b[0m\u001b[0;34m-\u001b[0m\u001b[0;36m10\u001b[0m\u001b[0;34m,\u001b[0m\u001b[0;36m10\u001b[0m\u001b[0;34m,\u001b[0m\u001b[0;36m100\u001b[0m\u001b[0;34m)\u001b[0m\u001b[0;34m\u001b[0m\u001b[0;34m\u001b[0m\u001b[0m\n\u001b[0m\u001b[1;32m      4\u001b[0m \u001b[0my\u001b[0m \u001b[0;34m=\u001b[0m \u001b[0mX\u001b[0m \u001b[0;34m+\u001b[0m \u001b[0mnp\u001b[0m\u001b[0;34m.\u001b[0m\u001b[0mrandom\u001b[0m\u001b[0;34m.\u001b[0m\u001b[0mnormal\u001b[0m\u001b[0;34m(\u001b[0m\u001b[0;36m0\u001b[0m\u001b[0;34m,\u001b[0m\u001b[0;36m0.5\u001b[0m\u001b[0;34m,\u001b[0m \u001b[0;36m100\u001b[0m\u001b[0;34m)\u001b[0m \u001b[0;34m+\u001b[0m \u001b[0;36m9\u001b[0m\u001b[0;34m\u001b[0m\u001b[0;34m\u001b[0m\u001b[0m\n\u001b[1;32m      5\u001b[0m \u001b[0mX\u001b[0m \u001b[0;34m=\u001b[0m \u001b[0mX\u001b[0m\u001b[0;34m.\u001b[0m\u001b[0mreshape\u001b[0m\u001b[0;34m(\u001b[0m\u001b[0;34m-\u001b[0m\u001b[0;36m1\u001b[0m\u001b[0;34m,\u001b[0m\u001b[0;36m1\u001b[0m\u001b[0;34m)\u001b[0m\u001b[0;34m\u001b[0m\u001b[0;34m\u001b[0m\u001b[0m\n",
      "\u001b[0;31mNameError\u001b[0m: name 'np' is not defined"
     ]
    }
   ],
   "source": [
    "from sklearn.linear_model import LinearRegression\n",
    "\n",
    "X = np.random.uniform(-10,10,100)\n",
    "y = X + np.random.normal(0,0.5, 100) + 9\n",
    "X = X.reshape(-1,1)\n",
    "\n",
    "lr = LinearRegression()\n",
    "lr.fit(X, y)\n",
    "preds = lr.predict(X)\n",
    "\n",
    "_ = met.model_score(y, preds, X, verbose = 1)\n"
   ]
  },
  {
   "cell_type": "markdown",
   "metadata": {},
   "source": [
    "Whoa... why did it break? I already imported numpy!? Kind of. I did, but numpy is currently called `met.np` not just np. If I want to use numpy I have two options, either import it like normal, or tell python that I want the variable `np` to point to `met.np` so that everyone's sharing numpy together."
   ]
  },
  {
   "cell_type": "code",
   "execution_count": 9,
   "metadata": {
    "ExecuteTime": {
     "end_time": "2018-09-11T19:47:45.268052Z",
     "start_time": "2018-09-11T19:47:43.904453Z"
    }
   },
   "outputs": [],
   "source": [
    "from sklearn.linear_model import LinearRegression\n",
    "np = met.np\n",
    "\n",
    "X = np.random.uniform(-10,10,100)\n",
    "y = X + np.random.normal(0,0.5, 100) + 9\n",
    "X = X.reshape(-1,1)\n",
    "\n",
    "lr = LinearRegression()\n",
    "lr.fit(X, y)\n",
    "preds = lr.predict(X)"
   ]
  },
  {
   "cell_type": "markdown",
   "metadata": {},
   "source": [
    "Cool. We got the data and the model working. Now let's try to see the `model_score` function in action."
   ]
  },
  {
   "cell_type": "code",
   "execution_count": 10,
   "metadata": {
    "ExecuteTime": {
     "end_time": "2018-09-11T19:47:56.510463Z",
     "start_time": "2018-09-11T19:47:56.488082Z"
    }
   },
   "outputs": [
    {
     "ename": "NameError",
     "evalue": "name 'model_score' is not defined",
     "output_type": "error",
     "traceback": [
      "\u001b[0;31m---------------------------------------------------------------------------\u001b[0m",
      "\u001b[0;31mNameError\u001b[0m                                 Traceback (most recent call last)",
      "\u001b[0;32m<ipython-input-10-7a180630db0e>\u001b[0m in \u001b[0;36m<module>\u001b[0;34m\u001b[0m\n\u001b[0;32m----> 1\u001b[0;31m \u001b[0mmodel_score\u001b[0m\u001b[0;34m(\u001b[0m\u001b[0my\u001b[0m\u001b[0;34m,\u001b[0m \u001b[0mpreds\u001b[0m\u001b[0;34m,\u001b[0m \u001b[0mX\u001b[0m\u001b[0;34m,\u001b[0m \u001b[0mverbose\u001b[0m \u001b[0;34m=\u001b[0m \u001b[0;36m1\u001b[0m\u001b[0;34m)\u001b[0m\u001b[0;34m\u001b[0m\u001b[0;34m\u001b[0m\u001b[0m\n\u001b[0m",
      "\u001b[0;31mNameError\u001b[0m: name 'model_score' is not defined"
     ]
    }
   ],
   "source": [
    "model_score(y, preds, X, verbose = 1)"
   ]
  },
  {
   "cell_type": "markdown",
   "metadata": {},
   "source": [
    "Remember, we have to tell it where model score lives. Right now it lives under `met`'s house"
   ]
  },
  {
   "cell_type": "code",
   "execution_count": 11,
   "metadata": {
    "ExecuteTime": {
     "end_time": "2018-09-11T19:48:11.745093Z",
     "start_time": "2018-09-11T19:48:11.325979Z"
    }
   },
   "outputs": [
    {
     "data": {
      "image/png": "[encoded data removed]",
      "text/plain": [
       "<Figure size 576x396 with 1 Axes>"
      ]
     },
     "metadata": {},
     "output_type": "display_data"
    },
    {
     "name": "stdout",
     "output_type": "stream",
     "text": [
      "Mean Squared Error:  0.21122211078306596\n",
      "Root Mean Squared Error:  0.45958906730150356\n",
      "Mean Absolute Error:  0.3718916878042563\n",
      "R2:  0.9940921269771108\n",
      "Adj R2:  0.9940318425585098\n",
      "Standard Error of Estimate:  0.464255065782991\n"
     ]
    }
   ],
   "source": [
    "_ = met.model_score(y,preds,X,verbose=1) \n",
    "# The \"_ =\" is just telling Python to call whatever comes back from that \n",
    "# function '_', which is the convention for, \"I don't care about what comes back\""
   ]
  },
  {
   "cell_type": "code",
   "execution_count": 12,
   "metadata": {
    "ExecuteTime": {
     "end_time": "2018-09-11T19:48:12.608847Z",
     "start_time": "2018-09-11T19:48:12.575466Z"
    }
   },
   "outputs": [
    {
     "data": {
      "text/plain": [
       "array([[0.]])"
      ]
     },
     "execution_count": 12,
     "metadata": {},
     "output_type": "execute_result"
    }
   ],
   "source": [
    "met.p_vals_per_coef(preds, y, lr.coef_, X)"
   ]
  },
  {
   "cell_type": "markdown",
   "metadata": {},
   "source": [
    "Let's look at the code for regression metrics. \n",
    "\n",
    "> Note: Jupyter has a magic command if you type `%load filename` it will put the text/code from `filename` into the cell for you\n",
    "\n",
    "**Note, don't run the cell below, it will work but breaks a demo later on**"
   ]
  },
  {
   "cell_type": "code",
   "execution_count": null,
   "metadata": {
    "ExecuteTime": {
     "end_time": "2018-07-18T15:22:44.446043Z",
     "start_time": "2018-07-18T15:22:44.301367Z"
    }
   },
   "outputs": [],
   "source": [
    "# %load regression_metrics.py\n",
    "from scipy import stats\n",
    "import numpy as np\n",
    "import matplotlib.pyplot as plt\n",
    "\n",
    "def mean_squared_error(true, pred):\n",
    "    return np.mean((pred - true)**2)\n",
    "\n",
    "def root_mean_square_error(true,pred):\n",
    "    return np.sqrt(mean_squared_error(true,pred))\n",
    "\n",
    "def mean_absolute_error(true,pred):\n",
    "    return np.mean(np.abs(pred - true))\n",
    "\n",
    "def sum_squared_error(true,pred):\n",
    "    return np.sum((pred - true)**2)\n",
    "\n",
    "def r2_score(true,pred):\n",
    "    y_bar = np.mean(true)\n",
    "    SSE = np.sum((pred - true)**2)\n",
    "    SST = np.sum((true - y_bar)**2)\n",
    "    return 1.-(SSE/SST)\n",
    "\n",
    "def adj_r2(rsquare, num_data, num_features):\n",
    "    temp = (1-rsquare)*(num_data-1)\n",
    "    temp = temp/(num_data-num_features-1)\n",
    "    temp = 1 - temp\n",
    "    return temp\n",
    "\n",
    "def standard_error_estimate(true,pred,num_data):\n",
    "    SSE = np.sum((pred - true)**2)\n",
    "    return np.sqrt(SSE/(num_data-2))\n",
    "\n",
    "def plot_model_results(X,y,ypred):\n",
    "    plt.style.use('seaborn')\n",
    "    plt.scatter(ypred,y,s=55)\n",
    "    plt.plot([min(y),max(y)],[min(y),max(y)],'r-')\n",
    "    plt.xlabel('Predicted')\n",
    "    plt.ylabel('True');\n",
    "    plt.show()\n",
    "    \n",
    "def p_vals_per_coef(pred, true, coefs, X):\n",
    "    sse =  sum_squared_error(pred,true)/ float(X.shape[0] - X.shape[1])\n",
    "    standard_error = np.array([np.sqrt(np.diagonal(sse * np.linalg.inv(np.dot(X.T, X))))])\n",
    "    t_stats = coefs / standard_error\n",
    "    p_vals = 2 * (1 - stats.t.cdf(np.abs(t_stats), true.shape[0] - X.shape[1]))\n",
    "    return p_vals\n",
    "\n",
    "def model_score(true, pred, X, verbose=0):\n",
    "    r2 = r2_score(true,pred)\n",
    "    adjr2 = adj_r2(r2,X.shape[0],X.shape[1])\n",
    "    if verbose:\n",
    "        plot_model_results(X,true,pred)\n",
    "        print(\"Mean Squared Error: \", mean_squared_error(true,pred))\n",
    "        print(\"Root Mean Squared Error: \", np.sqrt(mean_squared_error(true,pred)))\n",
    "        print(\"Mean Absolute Error: \",mean_absolute_error(true,pred))\n",
    "        print(\"R2: \", r2)\n",
    "        print(\"Adj R2: \", adjr2)\n",
    "        print(\"Standard Error of Estimate: \", standard_error_estimate(true,pred,X.shape[0]))\n",
    "    return r2, adjr2\n",
    "\n",
    "\n",
    "if __name__ == '__main__':\n",
    "\n",
    "    from sklearn.linear_model import LinearRegression\n",
    "\n",
    "    X = np.random.uniform(-10,10,100)\n",
    "    y = X + np.random.normal(0,0.5, 100) + 9\n",
    "    X = X.reshape(-1,1)\n",
    "\n",
    "    lr = LinearRegression()\n",
    "    lr.fit(X, y)\n",
    "    preds = lr.predict(X)\n",
    "\n",
    "    _ = model_score(y, preds, X, verbose = 1)\n"
   ]
  },
  {
   "cell_type": "markdown",
   "metadata": {},
   "source": [
    "When I did the import... none of the stuff at the bottom ran, despite not being wrapped in a function name. Why? It turns out that when you run a python program, there's a hidden variable called `__name__`. If I run a program directly, it's `__name__` is set to `__main__`. If I import a file, it's name is not `__main__`. So by tucking that code into the `if __name__ == '__main__'` block, I made sure that code only runs if someone called, `python regression_metrics.py`. "
   ]
  },
  {
   "cell_type": "markdown",
   "metadata": {},
   "source": [
    "### What if I don't want to use namespaces (the whole `met.function_name` thing)"
   ]
  },
  {
   "cell_type": "markdown",
   "metadata": {},
   "source": [
    "If I don't want my functions to live underneath the name of who they belong to, then I can ask to bring them in outside of the name space by explicity getting them \"from\" the file where they live."
   ]
  },
  {
   "cell_type": "code",
   "execution_count": 13,
   "metadata": {
    "ExecuteTime": {
     "end_time": "2018-09-11T19:48:36.323064Z",
     "start_time": "2018-09-11T19:48:36.312071Z"
    }
   },
   "outputs": [],
   "source": [
    "from regression_metrics import model_score"
   ]
  },
  {
   "cell_type": "code",
   "execution_count": 14,
   "metadata": {
    "ExecuteTime": {
     "end_time": "2018-09-11T19:48:37.210806Z",
     "start_time": "2018-09-11T19:48:36.873663Z"
    }
   },
   "outputs": [
    {
     "data": {
      "image/png": "[encoded data removed]",
      "text/plain": [
       "<Figure size 576x396 with 1 Axes>"
      ]
     },
     "metadata": {},
     "output_type": "display_data"
    },
    {
     "name": "stdout",
     "output_type": "stream",
     "text": [
      "Mean Squared Error:  0.21122211078306596\n",
      "Root Mean Squared Error:  0.45958906730150356\n",
      "Mean Absolute Error:  0.3718916878042563\n",
      "R2:  0.9940921269771108\n",
      "Adj R2:  0.9940318425585098\n",
      "Standard Error of Estimate:  0.464255065782991\n"
     ]
    },
    {
     "data": {
      "text/plain": [
       "(0.9940921269771108, 0.9940318425585098)"
      ]
     },
     "execution_count": 14,
     "metadata": {},
     "output_type": "execute_result"
    }
   ],
   "source": [
    "model_score(y, preds, X, verbose=1)"
   ]
  },
  {
   "cell_type": "markdown",
   "metadata": {},
   "source": [
    "If I wanted them all to be available"
   ]
  },
  {
   "cell_type": "code",
   "execution_count": 15,
   "metadata": {
    "ExecuteTime": {
     "end_time": "2018-09-11T19:48:38.448354Z",
     "start_time": "2018-09-11T19:48:38.443597Z"
    }
   },
   "outputs": [],
   "source": [
    "def mean_squared_error(x,y):\n",
    "    print(\"I'M MEAN SQUARED ERROR\")"
   ]
  },
  {
   "cell_type": "code",
   "execution_count": 16,
   "metadata": {
    "ExecuteTime": {
     "end_time": "2018-09-11T19:48:39.125648Z",
     "start_time": "2018-09-11T19:48:39.116933Z"
    }
   },
   "outputs": [
    {
     "name": "stdout",
     "output_type": "stream",
     "text": [
      "I'M MEAN SQUARED ERROR\n"
     ]
    }
   ],
   "source": [
    "mean_squared_error(y, preds)"
   ]
  },
  {
   "cell_type": "code",
   "execution_count": 17,
   "metadata": {
    "ExecuteTime": {
     "end_time": "2018-09-11T19:48:39.705255Z",
     "start_time": "2018-09-11T19:48:39.698014Z"
    }
   },
   "outputs": [],
   "source": [
    "from regression_metrics import *"
   ]
  },
  {
   "cell_type": "code",
   "execution_count": 18,
   "metadata": {
    "ExecuteTime": {
     "end_time": "2018-09-11T19:48:40.653400Z",
     "start_time": "2018-09-11T19:48:40.646760Z"
    }
   },
   "outputs": [
    {
     "data": {
      "text/plain": [
       "0.21122211078306596"
      ]
     },
     "execution_count": 18,
     "metadata": {},
     "output_type": "execute_result"
    }
   ],
   "source": [
    "mean_squared_error(y, preds)"
   ]
  },
  {
   "cell_type": "markdown",
   "metadata": {},
   "source": [
    "# So what does this all mean?"
   ]
  },
  {
   "cell_type": "markdown",
   "metadata": {},
   "source": [
    "At the end of the day, Jupyter notebooks are unacceptable for production. They just don't work. So you'll need to be able to put your code into module form. There are two options for that: \n",
    "\n",
    ">1) Write some big, awful single python file that contains everything in your notebook and makes everyone who ever sees it weep.\n",
    ">\n",
    ">2) Make lots of small files that contain all the functions/classes to do a specific thing\n",
    "\n",
    "Let's show an example of 2. Let's look at an example directory for a project.\n",
    "\n",
    "```\n",
    "project_name\n",
    "|\n",
    "|--- README.md\n",
    "|--- project_name.py # the main file that runs things\n",
    "|--- src # all the files you want to import from\n",
    "    |\n",
    "    |--- web_scraping.py\n",
    "    |--- regression_metrics.py\n",
    "    |--- linear_regression_helpers.py\n",
    "    |--- plotting_methods.py\n",
    "    |--- data_cleaning.py\n",
    "|--- Notebooks\n",
    "    |\n",
    "    |--- data_scraping_prototype.py\n",
    "    |--- data_cleaning_prototype.py\n",
    "    |--- visualization_prototype.py\n",
    "    |--- eda.py\n",
    "```\n",
    "    \n",
    "If this were a real project, I'd be providing a single python file that the user is supposed to run to do the things. It would have only code that is specific to reading from the user/sending things to the user and managing the processes. All of the functions and classes would live inside the `src` folder.\n",
    "\n",
    "The reason for this is twofold:\n",
    "\n",
    ">1) It's easy to maintain code when all the related functions are in the same file. It's also easier to track down errors.\n",
    ">\n",
    ">2) If something needs to be updated or \"swapped out\", I just change it in the file that's being imported from, without changing the main code - which risks breaking everything. "
   ]
  },
  {
   "cell_type": "markdown",
   "metadata": {},
   "source": [
    "# Okay, but we always imported from the same directory... how would I import from another directory?"
   ]
  },
  {
   "cell_type": "code",
   "execution_count": 38,
   "metadata": {
    "ExecuteTime": {
     "end_time": "2018-09-11T19:48:44.132451Z",
     "start_time": "2018-09-11T19:48:44.118744Z"
    }
   },
   "outputs": [],
   "source": [
    "import regression_metrics_in_src"
   ]
  },
  {
   "cell_type": "code",
   "execution_count": 39,
   "metadata": {
    "ExecuteTime": {
     "end_time": "2018-09-11T19:48:44.747954Z",
     "start_time": "2018-09-11T19:48:44.742268Z"
    }
   },
   "outputs": [],
   "source": [
    "import sys"
   ]
  },
  {
   "cell_type": "code",
   "execution_count": 40,
   "metadata": {},
   "outputs": [
    {
     "data": {
      "text/plain": [
       "['/Users/kbajina/Documents/DATA SCIENCE/Metis | Data Science Bootcamp/Bootcamp Pre-Work/dsp/lessons/python_intro/importing_with_python',\n",
       " '/anaconda3/lib/python37.zip',\n",
       " '/anaconda3/lib/python3.7',\n",
       " '/anaconda3/lib/python3.7/lib-dynload',\n",
       " '',\n",
       " '/anaconda3/lib/python3.7/site-packages',\n",
       " '/anaconda3/lib/python3.7/site-packages/aeosa',\n",
       " '/anaconda3/lib/python3.7/site-packages/IPython/extensions',\n",
       " '/Users/kbajina/.ipython']"
      ]
     },
     "execution_count": 40,
     "metadata": {},
     "output_type": "execute_result"
    }
   ],
   "source": [
    "sys.path"
   ]
  },
  {
   "cell_type": "code",
   "execution_count": 41,
   "metadata": {
    "ExecuteTime": {
     "end_time": "2018-09-11T19:48:45.554037Z",
     "start_time": "2018-09-11T19:48:45.545428Z"
    }
   },
   "outputs": [],
   "source": [
    "sys.path.append(\"./src\")"
   ]
  },
  {
   "cell_type": "code",
   "execution_count": 42,
   "metadata": {
    "ExecuteTime": {
     "end_time": "2018-09-11T19:48:46.577556Z",
     "start_time": "2018-09-11T19:48:46.565542Z"
    }
   },
   "outputs": [],
   "source": [
    "import regression_metrics_in_src as rmis"
   ]
  },
  {
   "cell_type": "code",
   "execution_count": 43,
   "metadata": {
    "ExecuteTime": {
     "end_time": "2018-09-11T19:48:47.377272Z",
     "start_time": "2018-09-11T19:48:47.361188Z"
    }
   },
   "outputs": [
    {
     "data": {
      "text/plain": [
       "0.21122211078306596"
      ]
     },
     "execution_count": 43,
     "metadata": {},
     "output_type": "execute_result"
    }
   ],
   "source": [
    "rmis.mean_squared_error(preds, y)"
   ]
  },
  {
   "cell_type": "code",
   "execution_count": 44,
   "metadata": {
    "ExecuteTime": {
     "end_time": "2018-09-11T19:48:48.096597Z",
     "start_time": "2018-09-11T19:48:48.086522Z"
    }
   },
   "outputs": [
    {
     "data": {
      "text/plain": [
       "['/Users/kbajina/Documents/DATA SCIENCE/Metis | Data Science Bootcamp/Bootcamp Pre-Work/dsp/lessons/python_intro/importing_with_python',\n",
       " '/anaconda3/lib/python37.zip',\n",
       " '/anaconda3/lib/python3.7',\n",
       " '/anaconda3/lib/python3.7/lib-dynload',\n",
       " '',\n",
       " '/anaconda3/lib/python3.7/site-packages',\n",
       " '/anaconda3/lib/python3.7/site-packages/aeosa',\n",
       " '/anaconda3/lib/python3.7/site-packages/IPython/extensions',\n",
       " '/Users/kbajina/.ipython',\n",
       " './src']"
      ]
     },
     "execution_count": 44,
     "metadata": {},
     "output_type": "execute_result"
    }
   ],
   "source": [
    "sys.path"
   ]
  },
  {
   "cell_type": "code",
   "execution_count": null,
   "metadata": {},
   "outputs": [],
   "source": []
  }
 ],
 "metadata": {
  "kernelspec": {
   "display_name": "Python 3",
   "language": "python",
   "name": "python3"
  },
  "language_info": {
   "codemirror_mode": {
    "name": "ipython",
    "version": 3
   },
   "file_extension": ".py",
   "mimetype": "text/x-python",
   "name": "python",
   "nbconvert_exporter": "python",
   "pygments_lexer": "ipython3",
   "version": "3.7.3"
  },
  "toc": {
   "nav_menu": {},
   "number_sections": true,
   "sideBar": true,
   "skip_h1_title": false,
   "toc_cell": false,
   "toc_position": {},
   "toc_section_display": "block",
   "toc_window_display": false
  },
  "varInspector": {
   "cols": {
    "lenName": 16,
    "lenType": 16,
    "lenVar": 40
   },
   "kernels_config": {
    "python": {
     "delete_cmd_postfix": "",
     "delete_cmd_prefix": "del ",
     "library": "var_list.py",
     "varRefreshCmd": "print(var_dic_list())"
    },
    "r": {
     "delete_cmd_postfix": ") ",
     "delete_cmd_prefix": "rm(",
     "library": "var_list.r",
     "varRefreshCmd": "cat(var_dic_list()) "
    }
   },
   "types_to_exclude": [
    "module",
    "function",
    "builtin_function_or_method",
    "instance",
    "_Feature"
   ],
   "window_display": false
  }
 },
 "nbformat": 4,
 "nbformat_minor": 2
}
